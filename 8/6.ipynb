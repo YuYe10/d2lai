{
 "cells": [
  {
   "cell_type": "markdown",
   "id": "6a532fd6",
   "metadata": {},
   "source": [
    "## 8.6. 循环神经网络的简洁实现"
   ]
  }
 ],
 "metadata": {
  "language_info": {
   "name": "python"
  }
 },
 "nbformat": 4,
 "nbformat_minor": 5
}
