{
 "cells": [
  {
   "cell_type": "code",
   "execution_count": null,
   "metadata": {},
   "outputs": [
    {
     "data": {
      "text/plain": [
       "tensor([[ 0.1517, -0.0553,  0.1290, -0.0061, -0.1314, -0.0055, -0.0852, -0.0596,\n",
       "         -0.0033, -0.3120],\n",
       "        [ 0.1791, -0.1008,  0.0830,  0.0961, -0.1157,  0.0339,  0.1410, -0.0425,\n",
       "         -0.1499, -0.3830]], grad_fn=<AddmmBackward0>)"
      ]
     },
     "execution_count": 2,
     "metadata": {},
     "output_type": "execute_result"
    }
   ],
   "source": [
    "import torch\n",
    "from torch import nn\n",
    "from torch.nn import functional as F\n",
    "\n",
    "net = nn.Sequential(nn.Linear(20, 256), nn.ReLU(), nn.Linear(256, 10))\n",
    "\n",
    "X = torch.rand(2, 20)\n",
    "net(X) "
   ]
  },
  {
   "cell_type": "markdown",
   "metadata": {},
   "source": [
    "### 5.1.1 自定义块"
   ]
  },
  {
   "cell_type": "code",
   "execution_count": 3,
   "metadata": {},
   "outputs": [],
   "source": [
    "class MLP(nn.Module):\n",
    "    def __init__(self):\n",
    "        # 调用MLP的父类Module的构造函数来执行必要的初始化\n",
    "        super().__init__()\n",
    "        self.hidden = nn.Linear(20, 256)\n",
    "        self.out = nn.Linear(256, 10)\n",
    "        self.connections = []  # 添加 connections 属性\n",
    "\n",
    "    def forward(self, X):\n",
    "        \"\"\"\n",
    "        定义前向传播函数。\n",
    "\n",
    "        参数:\n",
    "        - X: 输入数据，形状为 (batch_size, input_size)\n",
    "\n",
    "        返回:\n",
    "        - output: 经过前向传播后的输出数据，形状为 (batch_size, output_size)\n",
    "        \"\"\"\n",
    "        # 首先通过隐藏层 self.hidden 对输入 X 进行线性变换\n",
    "        hidden_output = self.hidden(X)\n",
    "        # 然后对隐藏层的输出应用 ReLU 激活函数\n",
    "        activated_output = F.relu(hidden_output)\n",
    "        # 最后通过输出层 self.out 对激活后的输出进行线性变换，得到最终的输出\n",
    "        output = self.out(activated_output)\n",
    "        return output\n",
    "\n",
    "    def connect(self, other_block):\n",
    "        if not hasattr(self, 'connections'):\n",
    "            self.connections = []\n",
    "        if other_block not in self.connections:\n",
    "            self.connections.append(other_block)\n",
    "            other_block.connections.append(self)\n"
   ]
  },
  {
   "cell_type": "code",
   "execution_count": 4,
   "metadata": {},
   "outputs": [
    {
     "name": "stdout",
     "output_type": "stream",
     "text": [
      "MLP(\n",
      "  (hidden): Linear(in_features=20, out_features=256, bias=True)\n",
      "  (out): Linear(in_features=256, out_features=10, bias=True)\n",
      ")\n",
      "MLP(\n",
      "  (hidden): Linear(in_features=20, out_features=256, bias=True)\n",
      "  (out): Linear(in_features=256, out_features=10, bias=True)\n",
      ") is connected to [MLP(\n",
      "  (hidden): Linear(in_features=20, out_features=256, bias=True)\n",
      "  (out): Linear(in_features=256, out_features=10, bias=True)\n",
      "), MLP(\n",
      "  (hidden): Linear(in_features=20, out_features=256, bias=True)\n",
      "  (out): Linear(in_features=256, out_features=10, bias=True)\n",
      "), MLP(\n",
      "  (hidden): Linear(in_features=20, out_features=256, bias=True)\n",
      "  (out): Linear(in_features=256, out_features=10, bias=True)\n",
      "), MLP(\n",
      "  (hidden): Linear(in_features=20, out_features=256, bias=True)\n",
      "  (out): Linear(in_features=256, out_features=10, bias=True)\n",
      ")]\n",
      "MLP(\n",
      "  (hidden): Linear(in_features=20, out_features=256, bias=True)\n",
      "  (out): Linear(in_features=256, out_features=10, bias=True)\n",
      ")\n",
      "MLP(\n",
      "  (hidden): Linear(in_features=20, out_features=256, bias=True)\n",
      "  (out): Linear(in_features=256, out_features=10, bias=True)\n",
      ") is connected to [MLP(\n",
      "  (hidden): Linear(in_features=20, out_features=256, bias=True)\n",
      "  (out): Linear(in_features=256, out_features=10, bias=True)\n",
      "), MLP(\n",
      "  (hidden): Linear(in_features=20, out_features=256, bias=True)\n",
      "  (out): Linear(in_features=256, out_features=10, bias=True)\n",
      "), MLP(\n",
      "  (hidden): Linear(in_features=20, out_features=256, bias=True)\n",
      "  (out): Linear(in_features=256, out_features=10, bias=True)\n",
      "), MLP(\n",
      "  (hidden): Linear(in_features=20, out_features=256, bias=True)\n",
      "  (out): Linear(in_features=256, out_features=10, bias=True)\n",
      ")]\n",
      "MLP(\n",
      "  (hidden): Linear(in_features=20, out_features=256, bias=True)\n",
      "  (out): Linear(in_features=256, out_features=10, bias=True)\n",
      ")\n",
      "MLP(\n",
      "  (hidden): Linear(in_features=20, out_features=256, bias=True)\n",
      "  (out): Linear(in_features=256, out_features=10, bias=True)\n",
      ") is connected to [MLP(\n",
      "  (hidden): Linear(in_features=20, out_features=256, bias=True)\n",
      "  (out): Linear(in_features=256, out_features=10, bias=True)\n",
      "), MLP(\n",
      "  (hidden): Linear(in_features=20, out_features=256, bias=True)\n",
      "  (out): Linear(in_features=256, out_features=10, bias=True)\n",
      "), MLP(\n",
      "  (hidden): Linear(in_features=20, out_features=256, bias=True)\n",
      "  (out): Linear(in_features=256, out_features=10, bias=True)\n",
      "), MLP(\n",
      "  (hidden): Linear(in_features=20, out_features=256, bias=True)\n",
      "  (out): Linear(in_features=256, out_features=10, bias=True)\n",
      ")]\n",
      "MLP(\n",
      "  (hidden): Linear(in_features=20, out_features=256, bias=True)\n",
      "  (out): Linear(in_features=256, out_features=10, bias=True)\n",
      ")\n",
      "MLP(\n",
      "  (hidden): Linear(in_features=20, out_features=256, bias=True)\n",
      "  (out): Linear(in_features=256, out_features=10, bias=True)\n",
      ") is connected to [MLP(\n",
      "  (hidden): Linear(in_features=20, out_features=256, bias=True)\n",
      "  (out): Linear(in_features=256, out_features=10, bias=True)\n",
      "), MLP(\n",
      "  (hidden): Linear(in_features=20, out_features=256, bias=True)\n",
      "  (out): Linear(in_features=256, out_features=10, bias=True)\n",
      "), MLP(\n",
      "  (hidden): Linear(in_features=20, out_features=256, bias=True)\n",
      "  (out): Linear(in_features=256, out_features=10, bias=True)\n",
      "), MLP(\n",
      "  (hidden): Linear(in_features=20, out_features=256, bias=True)\n",
      "  (out): Linear(in_features=256, out_features=10, bias=True)\n",
      ")]\n",
      "MLP(\n",
      "  (hidden): Linear(in_features=20, out_features=256, bias=True)\n",
      "  (out): Linear(in_features=256, out_features=10, bias=True)\n",
      ")\n",
      "MLP(\n",
      "  (hidden): Linear(in_features=20, out_features=256, bias=True)\n",
      "  (out): Linear(in_features=256, out_features=10, bias=True)\n",
      ") is connected to [MLP(\n",
      "  (hidden): Linear(in_features=20, out_features=256, bias=True)\n",
      "  (out): Linear(in_features=256, out_features=10, bias=True)\n",
      "), MLP(\n",
      "  (hidden): Linear(in_features=20, out_features=256, bias=True)\n",
      "  (out): Linear(in_features=256, out_features=10, bias=True)\n",
      "), MLP(\n",
      "  (hidden): Linear(in_features=20, out_features=256, bias=True)\n",
      "  (out): Linear(in_features=256, out_features=10, bias=True)\n",
      "), MLP(\n",
      "  (hidden): Linear(in_features=20, out_features=256, bias=True)\n",
      "  (out): Linear(in_features=256, out_features=10, bias=True)\n",
      ")]\n"
     ]
    }
   ],
   "source": [
    "def generate_instances(base_block, num_instances):\n",
    "    instances = [MLP() for _ in range(num_instances)]\n",
    "    return instances\n",
    "\n",
    "def build_network(base_block, num_instances):\n",
    "    instances = generate_instances(base_block, num_instances)\n",
    "    network = []\n",
    "\n",
    "    for instance in instances:\n",
    "        network.append(instance)\n",
    "        for other_instance in instances:\n",
    "            if instance != other_instance:\n",
    "                instance.connect(other_instance)\n",
    "\n",
    "    return network\n",
    "\n",
    "# 示例用法\n",
    "base_block = MLP()\n",
    "num_instances = 5\n",
    "network = build_network(base_block, num_instances)\n",
    "\n",
    "for block in network:\n",
    "    print(block)    \n",
    "    print(f\"{block} is connected to {[b for b in block.connections]}\")"
   ]
  },
  {
   "cell_type": "code",
   "execution_count": 5,
   "metadata": {},
   "outputs": [
    {
     "data": {
      "text/plain": [
       "tensor([[-0.2365, -0.0466, -0.2075,  0.0793,  0.0025, -0.0517,  0.2283, -0.1871,\n",
       "         -0.0762,  0.1137],\n",
       "        [-0.1012, -0.0203, -0.2308,  0.0191, -0.0831, -0.0376,  0.1771, -0.1477,\n",
       "         -0.1186,  0.0908]], grad_fn=<AddmmBackward0>)"
      ]
     },
     "execution_count": 5,
     "metadata": {},
     "output_type": "execute_result"
    }
   ],
   "source": [
    "net = MLP()\n",
    "net(X)"
   ]
  },
  {
   "cell_type": "markdown",
   "metadata": {},
   "source": [
    "### 5.1.2 顺序块"
   ]
  },
  {
   "cell_type": "code",
   "execution_count": 6,
   "metadata": {},
   "outputs": [],
   "source": [
    "class MySequential(nn.Module):\n",
    "    def __init__(self, *args):\n",
    "        \"\"\"\n",
    "        初始化MySequential类的实例。\n",
    "\n",
    "        参数:\n",
    "        *args: 可变数量的模块，将按照顺序添加到MySequential实例中。\n",
    "        \"\"\"\n",
    "        super().__init__()\n",
    "        # 遍历传入的模块列表\n",
    "        for idx, module in enumerate(args):\n",
    "            # 将每个模块添加到MySequential实例中，并使用索引作为模块的名称\n",
    "            self._modules[str(idx)] = module\n",
    "\n",
    "    def forward(self, X):\n",
    "        \"\"\"\n",
    "        前向传播方法。\n",
    "\n",
    "        参数:\n",
    "        X: 输入数据。\n",
    "\n",
    "        返回:\n",
    "        经过所有模块处理后的输出数据。\n",
    "        \"\"\"\n",
    "        # 遍历MySequential实例中的所有模块\n",
    "        for block in self._modules.values():\n",
    "            # 对输入数据进行前向传播，并将输出\n",
    "            X = block(X)\n",
    "        return X\n",
    "            "
   ]
  },
  {
   "cell_type": "code",
   "execution_count": 7,
   "metadata": {},
   "outputs": [
    {
     "data": {
      "text/plain": [
       "tensor([[-0.2666, -0.1289, -0.0157,  0.0398,  0.1279,  0.0733, -0.0466, -0.0374,\n",
       "          0.1114, -0.2472],\n",
       "        [-0.2652, -0.0487,  0.1382,  0.0522,  0.1025,  0.0683,  0.0764, -0.0402,\n",
       "          0.1028, -0.2212]], grad_fn=<AddmmBackward0>)"
      ]
     },
     "execution_count": 7,
     "metadata": {},
     "output_type": "execute_result"
    }
   ],
   "source": [
    "net = MySequential(nn.Linear(20, 256), nn.ReLU(), nn.Linear(256, 10))\n",
    "net(X)"
   ]
  },
  {
   "cell_type": "markdown",
   "metadata": {},
   "source": [
    "### 5.1.3. 在前向传播函数中执行代码"
   ]
  },
  {
   "cell_type": "code",
   "execution_count": 8,
   "metadata": {},
   "outputs": [],
   "source": [
    "class FixedHiddenMLP(nn.Module):\n",
    "    def __init__(self):\n",
    "        super().__init__()\n",
    "        # 不计算梯度的随机权重参数。因此其在训练期间保持不变\n",
    "        self.rand_weight = torch.rand((20, 20), requires_grad=False)\n",
    "        self.linear = nn.Linear(20, 20)        \n",
    "\n",
    "    def forward(self, X):\n",
    "        X = self.linear(X)\n",
    "        # 使用创建的常量参数以及relu和mm函数\n",
    "        X = F.relu(torch.mm(X, self.rand_weight) + 1)\n",
    "        # 复用全连接层。这相当于两个全连接层共享参数\n",
    "        X = self.linear(X)\n",
    "        # 控制流\n",
    "        while X.abs().sum() > 1:\n",
    "            X /= 2\n",
    "        return X.sum()"
   ]
  },
  {
   "cell_type": "code",
   "execution_count": 9,
   "metadata": {},
   "outputs": [
    {
     "data": {
      "text/plain": [
       "tensor(-0.0615, grad_fn=<SumBackward0>)"
      ]
     },
     "execution_count": 9,
     "metadata": {},
     "output_type": "execute_result"
    }
   ],
   "source": [
    "net = FixedHiddenMLP()\n",
    "net(X)"
   ]
  },
  {
   "cell_type": "code",
   "execution_count": 10,
   "metadata": {},
   "outputs": [],
   "source": [
    "class NestMLP(nn.Module):\n",
    "    def __init__(self):\n",
    "        super().__init__()\n",
    "        self.net = nn.Sequential(nn.Linear(20, 64), nn.ReLU(),\n",
    "                                 nn.Linear(64, 32), nn.ReLU())\n",
    "        self.linear = nn.Linear(32, 16)\n",
    "\n",
    "    def forward(self, X):\n",
    "        return self.linear(self.net(X))"
   ]
  },
  {
   "cell_type": "code",
   "execution_count": 11,
   "metadata": {},
   "outputs": [
    {
     "data": {
      "text/plain": [
       "tensor(-0.0537, grad_fn=<SumBackward0>)"
      ]
     },
     "execution_count": 11,
     "metadata": {},
     "output_type": "execute_result"
    }
   ],
   "source": [
    "chimera = nn.Sequential(NestMLP(), nn.Linear(16, 20), FixedHiddenMLP())\n",
    "chimera(X)"
   ]
  },
  {
   "cell_type": "code",
   "execution_count": 12,
   "metadata": {},
   "outputs": [
    {
     "data": {
      "text/plain": [
       "tensor(-0.1018, grad_fn=<SumBackward0>)"
      ]
     },
     "execution_count": 12,
     "metadata": {},
     "output_type": "execute_result"
    }
   ],
   "source": [
    "net = FixedHiddenMLP()\n",
    "net(X)"
   ]
  },
  {
   "cell_type": "code",
   "execution_count": 13,
   "metadata": {},
   "outputs": [
    {
     "data": {
      "text/plain": [
       "tensor(0.2169, grad_fn=<SumBackward0>)"
      ]
     },
     "execution_count": 13,
     "metadata": {},
     "output_type": "execute_result"
    }
   ],
   "source": [
    "class NestMLP(nn.Module):\n",
    "    def __init__(self):\n",
    "        super().__init__()\n",
    "        self.net = nn.Sequential(nn.Linear(20, 64), nn.ReLU(),\n",
    "                                 nn.Linear(64, 32), nn.ReLU())\n",
    "        self.linear = nn.Linear(32, 16)\n",
    "\n",
    "    def forward(self, X):\n",
    "        return self.linear(self.net(X))\n",
    "\n",
    "chimera = nn.Sequential(NestMLP(), nn.Linear(16, 20), FixedHiddenMLP())\n",
    "chimera(X)"
   ]
  },
  {
   "cell_type": "code",
   "execution_count": 14,
   "metadata": {},
   "outputs": [],
   "source": [
    "# Practice Problem 2\n",
    "#实现一个块，它以两个块为参数，例如net1和net2，并返回前向传播中两个网络的串联输出。这也被称为平行块。\n",
    "import torch\n",
    "from torch import nn\n",
    "from torch.nn import functional as F\n",
    "\n",
    "class Parallel(nn.Module):\n",
    "    def __init__(self, net1, net2):\n",
    "        super().__init__()\n",
    "        self.net1, self.net2 = net1, net2\n",
    "    def forward(self, X):\n",
    "        return torch.cat((self.net1(X), self.net2(X)), 1)\n",
    "# Practice Problem 3\n",
    "# 假设我们想要连接同一网络的多个实例。实现一个函数，该函数生成同一个块的多个实例，并在此基础上构建更大的网络。\n",
    "def block1():\n",
    "    return nn.Sequential(\n",
    "        nn.Conv2d(1, 64, kernel_size=3, padding=1), nn.ReLU(),\n",
    "        nn.Conv2d(64, 64, kernel_size=3, padding=1), nn.ReLU(),\n",
    "        nn.MaxPool2d(kernel_size=2, stride=2))\n",
    "\n",
    "def block2():\n",
    "    net = nn.Sequential()\n",
    "    for i in range(4):\n",
    "        net.add_module(f'block {i}', block1())\n",
    "    return net"
   ]
  },
  {
   "cell_type": "code",
   "execution_count": 15,
   "metadata": {},
   "outputs": [
    {
     "name": "stdout",
     "output_type": "stream",
     "text": [
      "Base_0 is connected to ['Base_1', 'Base_2', 'Base_3', 'Base_4']\n",
      "Base_1 is connected to ['Base_0', 'Base_2', 'Base_3', 'Base_4']\n",
      "Base_2 is connected to ['Base_0', 'Base_1', 'Base_3', 'Base_4']\n",
      "Base_3 is connected to ['Base_0', 'Base_1', 'Base_2', 'Base_4']\n",
      "Base_4 is connected to ['Base_0', 'Base_1', 'Base_2', 'Base_3']\n"
     ]
    }
   ],
   "source": [
    "class Block:\n",
    "    def __init__(self, name):\n",
    "        self.name = name\n",
    "        self.connections = []\n",
    "\n",
    "    def connect(self, other_block):\n",
    "        if other_block not in self.connections:\n",
    "            self.connections.append(other_block)\n",
    "            other_block.connections.append(self)\n",
    "\n",
    "    def __repr__(self):\n",
    "        return f\"Block({self.name})\"\n",
    "\n",
    "def generate_instances(base_block, num_instances):\n",
    "    instances = [Block(f\"{base_block.name}_{i}\") for i in range(num_instances)]\n",
    "    return instances\n",
    "\n",
    "def build_network(base_block, num_instances):\n",
    "    instances = generate_instances(base_block, num_instances)\n",
    "    network = []\n",
    "\n",
    "    for instance in instances:\n",
    "        network.append(instance)\n",
    "        for other_instance in instances:\n",
    "            if instance != other_instance:\n",
    "                instance.connect(other_instance)\n",
    "\n",
    "    return network\n",
    "\n",
    "# 示例用法\n",
    "base_block = Block(\"Base\")\n",
    "num_instances = 5\n",
    "network = build_network(base_block, num_instances)\n",
    "\n",
    "for block in network:\n",
    "    print(f\"{block.name} is connected to {[b.name for b in block.connections]}\")"
   ]
  }
 ],
 "metadata": {
  "kernelspec": {
   "display_name": "d2l",
   "language": "python",
   "name": "python3"
  },
  "language_info": {
   "codemirror_mode": {
    "name": "ipython",
    "version": 3
   },
   "file_extension": ".py",
   "mimetype": "text/x-python",
   "name": "python",
   "nbconvert_exporter": "python",
   "pygments_lexer": "ipython3",
   "version": "3.9.21"
  }
 },
 "nbformat": 4,
 "nbformat_minor": 2
}
