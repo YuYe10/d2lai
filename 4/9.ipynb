{
 "cells": [
  {
   "cell_type": "markdown",
   "metadata": {},
   "source": [
    "### 4.9.1  分布偏移的类型\n",
    "#### 4.9.1.1. 协变量偏移\n",
    "输入的分布可能随时间而改变， 但标签函数（即条件分布$P (y | \\mathbf{x})$）没有改变。 \n",
    "#### 4.9.1.2. 标签偏移\n",
    "标签偏移（label shift）描述了与协变量偏移相反的问题。 这里我们假设标签边缘概率$P(y)$可以改变， 但是类别条件分布$P(\\mathbf{x},y)$在不同的领域之间保持不变。 "
   ]
  },
  {
   "cell_type": "markdown",
   "metadata": {},
   "source": [
    "### 4.9.3. 分布偏移纠正\n",
    "\n"
   ]
  }
 ],
 "metadata": {
  "language_info": {
   "name": "python"
  }
 },
 "nbformat": 4,
 "nbformat_minor": 2
}
